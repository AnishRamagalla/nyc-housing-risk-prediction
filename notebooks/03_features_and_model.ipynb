{
 "cells": [
  {
   "cell_type": "code",
   "execution_count": null,
   "id": "b637a593",
   "metadata": {},
   "outputs": [],
   "source": [
    "# Cell 1 - Imports & Paths\n",
    "import pandas as pd\n",
    "import numpy as np\n",
    "import joblib\n",
    "import json\n",
    "from pathlib import Path\n",
    "from sklearn.model_selection import train_test_split\n",
    "from sklearn.ensemble import RandomForestClassifier\n",
    "from sklearn.utils import resample\n",
    "\n",
    "# Paths\n",
    "DATA_PATH = Path(\"data/processed/building_features.csv\")\n",
    "ARTIFACTS_DIR = Path(\"artifacts\")\n",
    "ARTIFACTS_DIR.mkdir(exist_ok=True)\n",
    "\n",
    "MODEL_PATH = ARTIFACTS_DIR / \"model.pkl\"\n",
    "FEATURE_LIST_PATH = ARTIFACTS_DIR / \"feature_list.json\"\n"
   ]
  },
  {
   "cell_type": "code",
   "execution_count": null,
   "id": "d8af4542",
   "metadata": {},
   "outputs": [
    {
     "name": "stdout",
     "output_type": "stream",
     "text": [
      "✅ Loaded: (17, 4)\n",
      "          bbl  events_prev_year  label  snapshot_year\n",
      "0  1004500035                 2      0           2021\n",
      "1  3050310006                 1      0           2021\n",
      "2  3051720023                 1      0           2021\n",
      "3  1016290062                 1      0           2022\n",
      "4  2025800011                 1      0           2022\n"
     ]
    }
   ],
   "source": [
    "# Cell 2 - Load Data\n",
    "df = pd.read_csv(DATA_PATH)\n",
    "print(\"✅ Loaded data:\", df.shape)\n",
    "df.head()\n"
   ]
  },
  {
   "cell_type": "code",
   "execution_count": null,
   "id": "07d1269a",
   "metadata": {},
   "outputs": [
    {
     "name": "stdout",
     "output_type": "stream",
     "text": [
      "✅ Features ready: 5\n",
      "['events_3m', 'events_6m', 'events_12m', 'events_24m', 'days_since_last']\n"
     ]
    }
   ],
   "source": [
    "# Cell 3 - Feature Engineering\n",
    "df[\"events_3m\"] = df[\"events_prev_year\"] / 4\n",
    "df[\"events_6m\"] = df[\"events_prev_year\"] / 2\n",
    "df[\"events_12m\"] = df[\"events_prev_year\"]\n",
    "df[\"events_24m\"] = df[\"events_prev_year\"] * 2\n",
    "df[\"days_since_last\"] = 30  # placeholder for now\n",
    "\n",
    "feature_cols = [\"events_3m\", \"events_6m\", \"events_12m\", \"events_24m\", \"days_since_last\"]\n",
    "X = df[feature_cols]\n",
    "y = df[\"label\"]\n",
    "\n",
    "print(\"✅ Features ready:\", X.shape)\n",
    "X.head()\n"
   ]
  },
  {
   "cell_type": "code",
   "execution_count": null,
   "id": "f638ea9a",
   "metadata": {},
   "outputs": [
    {
     "name": "stdout",
     "output_type": "stream",
     "text": [
      "Train: (13, 5) Test: (4, 5)\n"
     ]
    }
   ],
   "source": [
    "# Cell 4 - Balance Classes\n",
    "print(\"Class distribution before:\", y.value_counts())\n",
    "\n",
    "df_majority = df[df[\"label\"] == 0]\n",
    "df_minority = df[df[\"label\"] == 1]\n",
    "\n",
    "if len(df_minority) > 0:\n",
    "    df_minority_upsampled = resample(\n",
    "        df_minority,\n",
    "        replace=True,\n",
    "        n_samples=len(df_majority),\n",
    "        random_state=42\n",
    "    )\n",
    "    df_balanced = pd.concat([df_majority, df_minority_upsampled])\n",
    "else:\n",
    "    print(\"⚠️ No minority class found, skipping balancing.\")\n",
    "    df_balanced = df\n",
    "\n",
    "X_bal = df_balanced[feature_cols]\n",
    "y_bal = df_balanced[\"label\"]\n",
    "\n",
    "print(\"Class distribution after:\", y_bal.value_counts())\n"
   ]
  },
  {
   "cell_type": "code",
   "execution_count": 70,
   "id": "727ee78f",
   "metadata": {},
   "outputs": [
    {
     "name": "stdout",
     "output_type": "stream",
     "text": [
      "✅ Model trained\n",
      "Train acc: 0.9230769230769231\n",
      "Test acc: 0.75\n"
     ]
    }
   ],
   "source": [
    "# Cell 5 — Train Model\n",
    "model = RandomForestClassifier(\n",
    "    n_estimators=300,\n",
    "    max_depth=12,\n",
    "    random_state=42,\n",
    "    n_jobs=-1\n",
    ")\n",
    "\n",
    "model.fit(X_train, y_train)\n",
    "\n",
    "print(\"✅ Model trained\")\n",
    "print(\"Train acc:\", model.score(X_train, y_train))\n",
    "print(\"Test acc:\", model.score(X_test, y_test))\n"
   ]
  },
  {
   "cell_type": "code",
   "execution_count": 71,
   "id": "73dc42a8",
   "metadata": {},
   "outputs": [
    {
     "name": "stdout",
     "output_type": "stream",
     "text": [
      "ROC AUC: 0.8333333333333334\n",
      "PR AUC: 0.5\n",
      "              precision    recall  f1-score   support\n",
      "\n",
      "           0       0.75      1.00      0.86         3\n",
      "           1       0.00      0.00      0.00         1\n",
      "\n",
      "    accuracy                           0.75         4\n",
      "   macro avg       0.38      0.50      0.43         4\n",
      "weighted avg       0.56      0.75      0.64         4\n",
      "\n"
     ]
    },
    {
     "name": "stderr",
     "output_type": "stream",
     "text": [
      "c:\\Users\\maila\\OneDrive\\Documents\\GitHub\\nyc-housing-risk-prediction\\venv\\Lib\\site-packages\\sklearn\\metrics\\_classification.py:1731: UndefinedMetricWarning: Precision is ill-defined and being set to 0.0 in labels with no predicted samples. Use `zero_division` parameter to control this behavior.\n",
      "  _warn_prf(average, modifier, f\"{metric.capitalize()} is\", result.shape[0])\n",
      "c:\\Users\\maila\\OneDrive\\Documents\\GitHub\\nyc-housing-risk-prediction\\venv\\Lib\\site-packages\\sklearn\\metrics\\_classification.py:1731: UndefinedMetricWarning: Precision is ill-defined and being set to 0.0 in labels with no predicted samples. Use `zero_division` parameter to control this behavior.\n",
      "  _warn_prf(average, modifier, f\"{metric.capitalize()} is\", result.shape[0])\n",
      "c:\\Users\\maila\\OneDrive\\Documents\\GitHub\\nyc-housing-risk-prediction\\venv\\Lib\\site-packages\\sklearn\\metrics\\_classification.py:1731: UndefinedMetricWarning: Precision is ill-defined and being set to 0.0 in labels with no predicted samples. Use `zero_division` parameter to control this behavior.\n",
      "  _warn_prf(average, modifier, f\"{metric.capitalize()} is\", result.shape[0])\n"
     ]
    }
   ],
   "source": [
    "# Cell 6 — Evaluate\n",
    "y_pred = model.predict(X_test)\n",
    "y_proba = model.predict_proba(X_test)[:, 1]\n",
    "\n",
    "print(\"ROC AUC:\", roc_auc_score(y_test, y_proba))\n",
    "print(\"PR AUC:\", average_precision_score(y_test, y_proba))\n",
    "print(classification_report(y_test, y_pred))\n"
   ]
  },
  {
   "cell_type": "code",
   "execution_count": 72,
   "id": "e169dc54",
   "metadata": {},
   "outputs": [
    {
     "name": "stdout",
     "output_type": "stream",
     "text": [
      "✅ Model saved to artifacts/model.pkl\n",
      "✅ Feature list saved to artifacts/feature_list.json\n"
     ]
    }
   ],
   "source": [
    "# Cell 7 — Save Artifacts\n",
    "joblib.dump(model, MODEL_PATH)\n",
    "print(f\"✅ Model saved to {MODEL_PATH}\")\n",
    "\n",
    "with open(FEATURE_LIST_PATH, \"w\") as f:\n",
    "    json.dump(feature_list, f)\n",
    "print(f\"✅ Feature list saved to {FEATURE_LIST_PATH}\")\n"
   ]
  },
  {
   "cell_type": "code",
   "execution_count": 63,
   "id": "81629d40",
   "metadata": {},
   "outputs": [
    {
     "data": {
      "image/png": "[encoded data removed]",
      "text/plain": [
       "<Figure size 800x500 with 1 Axes>"
      ]
     },
     "metadata": {},
     "output_type": "display_data"
    }
   ],
   "source": [
    "# Optional: check which features are most important\n",
    "import matplotlib.pyplot as plt\n",
    "\n",
    "importances = pd.Series(model.feature_importances_, index=X.columns)\n",
    "importances = importances.sort_values(ascending=False).head(15)\n",
    "\n",
    "plt.figure(figsize=(8,5))\n",
    "importances.plot(kind=\"barh\")\n",
    "plt.title(\"Top Feature Importances\")\n",
    "plt.show()\n"
   ]
  },
  {
   "cell_type": "code",
   "execution_count": null,
   "id": "10f40899",
   "metadata": {},
   "outputs": [],
   "source": []
  },
  {
   "cell_type": "code",
   "execution_count": 48,
   "id": "64d97ee7",
   "metadata": {},
   "outputs": [
    {
     "name": "stdout",
     "output_type": "stream",
     "text": [
      "Building: 1004940026 Pred: 0 Prob: 0.0\n",
      "Building: 2046230049 Pred: 0 Prob: 0.0\n",
      "Building: 2033260001 Pred: 0 Prob: 0.0\n",
      "Building: 3050310006 Pred: 0 Prob: 0.0\n",
      "Building: 2045970021 Pred: 0 Prob: 0.0\n",
      "Building: 2049940037 Pred: 0 Prob: 0.0\n",
      "Building: 4050370151 Pred: 1 Prob: 1.0\n",
      "Building: 3051490001 Pred: 0 Prob: 0.0\n",
      "Building: 3051860038 Pred: 0 Prob: 0.0\n",
      "Building: 1004350019 Pred: 0 Prob: 0.0\n"
     ]
    }
   ],
   "source": [
    "# Try 10 random samples from last snapshot\n",
    "samples = fm[fm['snapshot_date'] == last].sample(10, random_state=7)\n",
    "for _, row in samples.iterrows():\n",
    "    X_row = row.reindex(index=feature_list, fill_value=0).to_frame().T\n",
    "    y_pred = model.predict(X_row)[0]\n",
    "    y_prob = model.predict_proba(X_row)[0,1]\n",
    "    print(\"Building:\", row[BUILD_COL], \"Pred:\", y_pred, \"Prob:\", round(float(y_prob), 3))\n"
   ]
  },
  {
   "cell_type": "code",
   "execution_count": null,
   "id": "a8f7b549",
   "metadata": {},
   "outputs": [],
   "source": []
  },
  {
   "cell_type": "code",
   "execution_count": null,
   "id": "adc9cbe7",
   "metadata": {},
   "outputs": [
    {
     "name": "stdout",
     "output_type": "stream",
     "text": [
      "[(0, 'complaint_number', 'TEXT', 0, None, 1), (1, 'bin', 'TEXT', 0, None, 0), (2, 'date_entered', 'TEXT', 0, None, 0), (3, 'house_number', 'TEXT', 0, None, 0), (4, 'house_street', 'TEXT', 0, None, 0), (5, 'complaint_category', 'TEXT', 0, None, 0), (6, 'status', 'TEXT', 0, None, 0), (7, 'inspection_date', 'TEXT', 0, None, 0), (8, 'dobrundate', 'TEXT', 0, None, 0)]\n"
     ]
    }
   ],
   "source": [
    "import sqlite3\n",
    "\n",
    "conn = sqlite3.connect(\"data/live/complaints.sqlite\")\n",
    "cursor = conn.cursor()\n",
    "\n",
    "cursor.execute(\"PRAGMA table_info(complaints);\")\n",
    "print(cursor.fetchall())\n"
   ]
  },
  {
   "cell_type": "code",
   "execution_count": null,
   "id": "5ccd4547",
   "metadata": {},
   "outputs": [
    {
     "name": "stdout",
     "output_type": "stream",
     "text": [
      "40.601104 -73.973778 124 LAKE STREET, Brooklyn, NY, USA\n"
     ]
    }
   ],
   "source": [
    "from src.geocode import geocode_address\n",
    "\n",
    "lat, lon, label = geocode_address(\"124 Lake St, Brooklyn, NY\")\n",
    "print(lat, lon, label)\n",
    "#git add . && git commit -m \"Commit all modified files\" && git push\n"
   ]
  }
 ],
 "metadata": {
  "kernelspec": {
   "display_name": "venv",
   "language": "python",
   "name": "python3"
  },
  "language_info": {
   "codemirror_mode": {
    "name": "ipython",
    "version": 3
   },
   "file_extension": ".py",
   "mimetype": "text/x-python",
   "name": "python",
   "nbconvert_exporter": "python",
   "pygments_lexer": "ipython3",
   "version": "3.11.9"
  }
 },
 "nbformat": 4,
 "nbformat_minor": 5
}
